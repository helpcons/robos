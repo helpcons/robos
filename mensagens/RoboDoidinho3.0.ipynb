{
 "cells": [
  {
   "cell_type": "code",
   "execution_count": 1,
   "id": "5f3d743c",
   "metadata": {},
   "outputs": [],
   "source": [
    "import time\n",
    "import pandas as pd\n",
    "from selenium.webdriver.common.by import By\n",
    "from selenium import webdriver"
   ]
  },
  {
   "cell_type": "code",
   "execution_count": null,
   "id": "9cea6826",
   "metadata": {},
   "outputs": [],
   "source": [
    "# from webdriver_manager.chrome import ChromeDriverManager\n",
    "# from selenium.webdriver.chrome.service import Service as ChromeService\n",
    "\n",
    "# navegador = webdriver.Chrome(service=ChromeService(ChromeDriverManager().install()))"
   ]
  },
  {
   "cell_type": "code",
   "execution_count": 12,
   "id": "668ada70",
   "metadata": {},
   "outputs": [],
   "source": [
    "from selenium.webdriver.edge.service import Service as EdgeService\n",
    "from webdriver_manager.microsoft import EdgeChromiumDriverManager\n",
    "\n",
    "navegador = webdriver.Edge(service=EdgeService(EdgeChromiumDriverManager().install()))"
   ]
  },
  {
   "attachments": {},
   "cell_type": "markdown",
   "id": "af69d9a1",
   "metadata": {},
   "source": [
    "### Whatsapp"
   ]
  },
  {
   "cell_type": "code",
   "execution_count": null,
   "id": "94af2915",
   "metadata": {},
   "outputs": [],
   "source": [
    "navegador = webdriver.Chrome()\n",
    "navegador.implicitly_wait(20) # seconds\n",
    "navegador.get('https://web.whatsapp.com/')\n",
    "\n",
    "# Convertendo todos os formatos em texto\n",
    "df_contato = pd.read_excel('Contatos.xlsx')\n",
    "# df_contato = df_contato[['Número', 'Mensagem', 'Imagem']]\n",
    "df_contato['Número'] = df_contato['Número'].astype(str)\n",
    "tuples = [tuple(x) for x in df_contato.values]\n",
    "\n",
    "# Salva contatos não realizados\n",
    "nao_enviados = []\n",
    "\n",
    "# Aguardando conexão com o whatsapp\n",
    "while len(navegador.find_elements(By.ID, 'side')) < 1:\n",
    "    time.sleep(1)\n",
    "\n",
    "\n",
    "    # Percorrendo os contatos e informações para envio\n",
    "for numero, nome, texto in tuples:\n",
    "    try:\n",
    "        time.sleep(4)\n",
    "        navegador.get(f'https://api.whatsapp.com/send/?phone=55{str(numero)}&text&type=phone_number&app_absent=0')\n",
    "        time.sleep(5)\n",
    "        navegador.find_element(By.XPATH, '//*[@id=\"action-button\"]/span').click()\n",
    "        time.sleep(6)\n",
    "        navegador.find_element(By.XPATH, '//*[@id=\"fallback_block\"]/div/div/h4[2]/a/span').click()\n",
    "\n",
    "        # enviando mensagens\n",
    "        navegador.find_element(By.XPATH, '//*[@id=\"main\"]/footer/div[1]/div/span[2]/div/div[2]/div[1]/div/div[1]/p').send_keys(texto)\n",
    "        time.sleep(6)\n",
    "        navegador.find_element(By.XPATH, '//*[@id=\"main\"]/footer/div[1]/div/span[2]/div/div[2]/div[2]/button/span').click()\n",
    "        time.sleep(6)\n",
    "        print(numero)\n",
    "    except:\n",
    "        time.sleep(5)\n",
    "        navegador.find_element(By.XPATH, '//*[@id=\"app\"]/div/span[2]/div/span/div/div/div/div/div/div[2]/div/button/div/div').click()\n",
    "        contato_nao_enviado = nome + \" - \" + str(numero)\n",
    "        nao_enviados.append(contato_nao_enviado)\n",
    "\n",
    "\n",
    "# enviar todos os\n",
    "navegador.get(f'https://api.whatsapp.com/send/?phone=5521980657337&text&type=phone_number&app_absent=0')\n",
    "time.sleep(5)\n",
    "navegador.find_element(By.XPATH, '//*[@id=\"action-button\"]/span').click()\n",
    "time.sleep(6)\n",
    "navegador.find_element(By.XPATH, '//*[@id=\"fallback_block\"]/div/div/h4[2]/a/span').click()\n",
    "\n",
    "# enviando mensagens\n",
    "for numero in nao_enviados:\n",
    "    time.sleep(5)\n",
    "    navegador.find_element(By.XPATH, '//*[@id=\"main\"]/footer/div[1]/div/span[2]/div/div[2]/div[1]/div/div[1]/p').send_keys(str(numero))\n",
    "    time.sleep(6)\n",
    "    navegador.find_element(By.XPATH, '//*[@id=\"main\"]/footer/div[1]/div/span[2]/div/div[2]/div[2]/button/span').click()\n",
    "\n",
    "# enviando imagens\n",
    "# navegador.find_element(By.XPATH, '//*[@id=\"main\"]/footer/div[1]/div/span[2]/div/div[2]/div[1]/div/div[1]/p').send_keys(imagem)\n",
    "# navegador.find_element(By.XPATH, '//*[@id=\"main\"]/footer/div[1]/div/span[2]/div/div[2]/div[2]/button/span').click()"
   ]
  },
  {
   "cell_type": "code",
   "execution_count": null,
   "id": "646cdeb1",
   "metadata": {},
   "outputs": [],
   "source": [
    "navegador = webdriver.Chrome()\n",
    "navegador.implicitly_wait(20) # seconds\n",
    "navegador.get('https://web.whatsapp.com/')\n",
    "\n",
    "# Convertendo todos os formatos em texto\n",
    "df_contato = pd.read_excel('Contatos.xlsx')\n",
    "# df_contato = df_contato[['Número', 'Mensagem', 'Imagem']]\n",
    "df_contato['Número'] = df_contato['Número'].astype(str)\n",
    "tuples = [tuple(x) for x in df_contato.values]\n",
    "\n",
    "# Salva contatos não realizados\n",
    "nao_enviados = []\n",
    "\n",
    "# Aguardando conexão com o whatsapp\n",
    "while len(navegador.find_elements(By.ID, 'side')) < 1:\n",
    "    time.sleep(1)\n",
    "\n",
    "\n",
    "    # Percorrendo os contatos e informações para envio\n",
    "for numero, nome, texto in tuples:\n",
    "    try:\n",
    "        time.sleep(4)\n",
    "        navegador.get(f'https://api.whatsapp.com/send/?phone=55{str(numero)}&text&type=phone_number&app_absent=0')\n",
    "        time.sleep(5)\n",
    "        navegador.find_element(By.XPATH, '//*[@id=\"action-button\"]/span').click()\n",
    "        time.sleep(6)\n",
    "        navegador.find_element(By.XPATH, '//*[@id=\"fallback_block\"]/div/div/h4[2]/a/span').click()\n",
    "\n",
    "        # enviando mensagens\n",
    "        navegador.find_element(By.XPATH, '//*[@id=\"main\"]/footer/div[1]/div/span/div/div[2]/div[1]/div/div[1]').send_keys(texto)\n",
    "        time.sleep(6)\n",
    "        navegador.find_element(By.XPATH, '//*[@id=\"main\"]/footer/div[1]/div/span/div/div[2]/div[2]').click()\n",
    "        time.sleep(6)\n",
    "        print(numero)\n",
    "    except:\n",
    "        time.sleep(5)\n",
    "        navegador.find_element(By.XPATH, '//*[@id=\"app\"]/div/span[2]/div/span/div/div/div/div/div/div[2]/div/button/div/div').click()\n",
    "        contato_nao_enviado = nome + \" - \" + str(numero)\n",
    "        nao_enviados.append(contato_nao_enviado)\n",
    "\n",
    "\n",
    "# enviar todos os\n",
    "navegador.get(f'https://api.whatsapp.com/send/?phone=5521980657337&text&type=phone_number&app_absent=0')\n",
    "time.sleep(5)\n",
    "navegador.find_element(By.XPATH, '//*[@id=\"action-button\"]/span').click()\n",
    "time.sleep(6)\n",
    "navegador.find_element(By.XPATH, '//*[@id=\"fallback_block\"]/div/div/h4[2]/a/span').click()\n",
    "\n",
    "# enviando mensagens\n",
    "for numero in nao_enviados:\n",
    "    time.sleep(5)\n",
    "    navegador.find_element(By.XPATH, '//*[@id=\"main\"]/footer/div[1]/div/span[2]/div/div[2]/div[1]/div/div[1]/p').send_keys(str(numero))\n",
    "    time.sleep(6)\n",
    "    navegador.find_element(By.XPATH, '//*[@id=\"main\"]/footer/div[1]/div/span[2]/div/div[2]/div[2]/button/span').click()\n",
    "\n",
    "# enviando imagens\n",
    "# navegador.find_element(By.XPATH, '//*[@id=\"main\"]/footer/div[1]/div/span[2]/div/div[2]/div[1]/div/div[1]/p').send_keys(imagem)\n",
    "# navegador.find_element(By.XPATH, '//*[@id=\"main\"]/footer/div[1]/div/span[2]/div/div[2]/div[2]/button/span').click()"
   ]
  },
  {
   "cell_type": "code",
   "execution_count": null,
   "id": "82c39191",
   "metadata": {},
   "outputs": [],
   "source": [
    "for numero, nome, texto in tuples:\n",
    "    try:\n",
    "        time.sleep(4)\n",
    "        navegador.get(f'https://api.whatsapp.com/send/?phone=55{str(numero)}&text&type=phone_number&app_absent=0')\n",
    "        time.sleep(5)\n",
    "        navegador.find_element(By.XPATH, '//*[@id=\"action-button\"]/span').click()\n",
    "        time.sleep(6)\n",
    "        navegador.find_element(By.XPATH, '//*[@id=\"fallback_block\"]/div/div/h4[2]/a/span').click()\n",
    "\n",
    "        # enviando mensagens\n",
    "        navegador.find_element(By.XPATH, '//*[@id=\"main\"]/footer/div[1]/div/span/div/div[2]/div[1]/div/div[1]').send_keys(texto)\n",
    "        time.sleep(6)\n",
    "        navegador.find_element(By.XPATH, '//*[@id=\"main\"]/footer/div[1]/div/span/div/div[2]/div[2]').click()\n",
    "        time.sleep(6)\n",
    "        print(numero)\n",
    "    except:\n",
    "        time.sleep(5)\n",
    "        navegador.find_element(By.XPATH, '//*[@id=\"app\"]/div/span[2]/div/span/div/div/div/div/div/div[2]/div/button/div/div').click()\n",
    "        contato_nao_enviado = nome + \" - \" + str(numero)\n",
    "        nao_enviados.append(contato_nao_enviado)\n",
    "\n",
    "\n",
    "# enviar todos os\n",
    "navegador.get(f'https://api.whatsapp.com/send/?phone=5521980657337&text&type=phone_number&app_absent=0')\n",
    "time.sleep(5)\n",
    "navegador.find_element(By.XPATH, '//*[@id=\"action-button\"]/span').click()\n",
    "time.sleep(6)\n",
    "navegador.find_element(By.XPATH, '//*[@id=\"fallback_block\"]/div/div/h4[2]/a/span').click()\n",
    "\n",
    "# enviando mensagens\n",
    "for numero in nao_enviados:\n",
    "    time.sleep(5)\n",
    "    navegador.find_element(By.XPATH, '//*[@id=\"main\"]/footer/div[1]/div/span/div/div[2]/div[1]/div/div[1]').send_keys(str(numero))\n",
    "    time.sleep(6)\n",
    "    navegador.find_element(By.XPATH, '//*[@id=\"main\"]/footer/div[1]/div/span/div/div[2]/div[2]').click()\n",
    "\n",
    "# enviando imagens\n",
    "# navegador.find_element(By.XPATH, '//*[@id=\"main\"]/footer/div[1]/div/span[2]/div/div[2]/div[1]/div/div[1]/p').send_keys(imagem)\n",
    "# navegador.find_element(By.XPATH, '//*[@id=\"main\"]/footer/div[1]/div/span[2]/div/div[2]/div[2]/button/span').click()"
   ]
  },
  {
   "cell_type": "code",
   "execution_count": 47,
   "id": "35ed41c1",
   "metadata": {},
   "outputs": [],
   "source": [
    "imagem = \"C:\\\\python\\\\robos\\\\mensagens\\\\convite.jpeg\"\n",
    "# navegador.find_element(By.XPATH, '//*[@id=\"main\"]/footer/div[1]/div/span[2]/div/div[2]/div[1]/div/div[1]/p').send_keys(imagem)"
   ]
  },
  {
   "cell_type": "code",
   "execution_count": 50,
   "id": "5419f788",
   "metadata": {},
   "outputs": [],
   "source": [
    "from selenium.webdriver.common.action_chains import ActionChains\n",
    "from selenium.webdriver.common.keys import Keys"
   ]
  },
  {
   "cell_type": "code",
   "execution_count": null,
   "id": "81738226",
   "metadata": {},
   "outputs": [],
   "source": [
    "navegador.find_element(By.XPATH, '//*[@id=\"main\"]/footer/div[1]/div/span/div/div[1]/div[2]/div/div/div/span').click()\n",
    "navegador.find_element(By.XPATH, '//*[@id=\"main\"]/footer/div[1]/div/span/div/div[1]/div[2]/div/span/div/ul/div/div[2]/li/div').click()\n",
    "time.sleep(3)\n",
    "navegador.find_element(By.XPATH, '//*[@id=\"main\"]/footer/div[1]/div/span/div/div[1]/div[2]/div/span/div/ul/div/div[2]/li/div/input').send_keys(imagem)\n",
    "time.sleep(3)\n",
    "navegador.find_element(By.XPATH, '//*[@id=\"main\"]/footer/div[1]/div/span/div/div[1]/div[2]/div/span/div/ul/div/div[2]/li/div/input').send_keys(Keys.ESCAPE)\n",
    "# ActionChains(navegador).send_keys(Keys.ESCAPE)\n",
    "navegador.find_element(By.XPATH, '//*[@id=\"app\"]/div/div[3]/div[2]/div[2]/span/div/div/div/div[2]/div/div[2]/div[2]/div/div').click()"
   ]
  },
  {
   "cell_type": "code",
   "execution_count": 60,
   "id": "8c102387",
   "metadata": {},
   "outputs": [
    {
     "name": "stdout",
     "output_type": "stream",
     "text": [
      "[<selenium.webdriver.remote.webelement.WebElement (session=\"b395febd106f20ce431b8e9c34cb8149\", element=\"f.B289D049FFDCB64DC8F0D9D381B7D933.d.66DF3FF67C83091762EBC45FFC14D440.e.12400\")>, <selenium.webdriver.remote.webelement.WebElement (session=\"b395febd106f20ce431b8e9c34cb8149\", element=\"f.B289D049FFDCB64DC8F0D9D381B7D933.d.66DF3FF67C83091762EBC45FFC14D440.e.12408\")>, <selenium.webdriver.remote.webelement.WebElement (session=\"b395febd106f20ce431b8e9c34cb8149\", element=\"f.B289D049FFDCB64DC8F0D9D381B7D933.d.66DF3FF67C83091762EBC45FFC14D440.e.12439\")>, <selenium.webdriver.remote.webelement.WebElement (session=\"b395febd106f20ce431b8e9c34cb8149\", element=\"f.B289D049FFDCB64DC8F0D9D381B7D933.d.66DF3FF67C83091762EBC45FFC14D440.e.7708\")>]\n"
     ]
    }
   ],
   "source": [
    "# file_input = navegador.find_element(By.CSS_SELECTOR, \"input[type='file']\")\n",
    "# file_input.send_keys(imagem)\n",
    "\n",
    "arquivos = navegador.find_elements(By.CSS_SELECTOR, \"input[type='file']\")\n",
    "print(arquivos)"
   ]
  },
  {
   "cell_type": "code",
   "execution_count": 62,
   "id": "7dac8a89",
   "metadata": {},
   "outputs": [],
   "source": [
    "arquivos[1].send_keys(imagem)"
   ]
  },
  {
   "cell_type": "code",
   "execution_count": 1,
   "id": "c9c6b7cc",
   "metadata": {},
   "outputs": [
    {
     "name": "stdout",
     "output_type": "stream",
     "text": [
      "Hora atual: 20:54:32\n"
     ]
    }
   ],
   "source": [
    "from datetime import datetime\n",
    "\n",
    "# Obtendo a hora atual\n",
    "hora_atual = datetime.now()\n",
    "\n",
    "# Exibindo a hora atual formatada\n",
    "print(\"Hora atual:\", hora_atual.strftime(\"%H:%M:%S\"))\n"
   ]
  },
  {
   "cell_type": "code",
   "execution_count": null,
   "id": "54405884",
   "metadata": {},
   "outputs": [
    {
     "name": "stdout",
     "output_type": "stream",
     "text": [
      "Fora do horário. Horário atual: 20:56\n",
      "Fora do horário. Horário atual: 20:57\n",
      "Fora do horário. Horário atual: 20:58\n",
      "Fora do horário. Horário atual: 20:59\n",
      "Fora do horário. Horário atual: 21:00\n",
      "Fora do horário. Horário atual: 21:01\n",
      "Fora do horário. Horário atual: 21:02\n",
      "Fora do horário. Horário atual: 21:03\n",
      "Fora do horário. Horário atual: 21:04\n",
      "Tarefa executada às 21:05\n",
      "Tarefa executada às 21:06\n",
      "Tarefa executada às 21:07\n",
      "Tarefa executada às 21:08\n",
      "Tarefa executada às 21:09\n",
      "Tarefa executada às 21:10\n",
      "Fora do horário. Horário atual: 21:11\n",
      "Fora do horário. Horário atual: 21:12\n",
      "Fora do horário. Horário atual: 21:13\n",
      "Fora do horário. Horário atual: 21:14\n",
      "Fora do horário. Horário atual: 21:15\n",
      "Fora do horário. Horário atual: 21:16\n",
      "Fora do horário. Horário atual: 21:17\n",
      "Fora do horário. Horário atual: 21:18\n",
      "Fora do horário. Horário atual: 21:19\n",
      "Fora do horário. Horário atual: 21:20\n",
      "Fora do horário. Horário atual: 21:21\n",
      "Fora do horário. Horário atual: 21:22\n",
      "Fora do horário. Horário atual: 21:23\n",
      "Fora do horário. Horário atual: 21:24\n",
      "Fora do horário. Horário atual: 21:25\n",
      "Fora do horário. Horário atual: 21:26\n",
      "Fora do horário. Horário atual: 21:27\n",
      "Fora do horário. Horário atual: 21:28\n",
      "Fora do horário. Horário atual: 21:29\n",
      "Fora do horário. Horário atual: 21:30\n",
      "Fora do horário. Horário atual: 21:31\n",
      "Fora do horário. Horário atual: 21:32\n",
      "Fora do horário. Horário atual: 21:33\n",
      "Fora do horário. Horário atual: 21:34\n",
      "Fora do horário. Horário atual: 21:35\n",
      "Fora do horário. Horário atual: 21:36\n",
      "Fora do horário. Horário atual: 21:37\n",
      "Fora do horário. Horário atual: 21:38\n",
      "Fora do horário. Horário atual: 21:39\n",
      "Fora do horário. Horário atual: 21:40\n",
      "Fora do horário. Horário atual: 21:41\n",
      "Fora do horário. Horário atual: 21:42\n",
      "Fora do horário. Horário atual: 21:43\n",
      "Fora do horário. Horário atual: 21:44\n",
      "Fora do horário. Horário atual: 08:14\n"
     ]
    }
   ],
   "source": [
    "import time\n",
    "from datetime import datetime\n",
    "\n",
    "def executar_tarefa():\n",
    "    agora = datetime.now()\n",
    "    hora_minuto = agora.strftime(\"%H:%M\")\n",
    "    \n",
    "    # Verifica se o horário está no intervalo\n",
    "    if \"21:05\" <= hora_minuto <= \"21:10\":\n",
    "        print(f\"Tarefa executada às {hora_minuto}\")\n",
    "    else:\n",
    "        print(f\"Fora do horário. Horário atual: {hora_minuto}\")\n",
    "\n",
    "# Loop contínuo para verificar a cada minuto\n",
    "while True:\n",
    "    executar_tarefa()\n",
    "    time.sleep(60)  # Aguarda 60 segundos antes de verificar novamente\n"
   ]
  }
 ],
 "metadata": {
  "kernelspec": {
   "display_name": "lopes",
   "language": "python",
   "name": "python3"
  },
  "language_info": {
   "codemirror_mode": {
    "name": "ipython",
    "version": 3
   },
   "file_extension": ".py",
   "mimetype": "text/x-python",
   "name": "python",
   "nbconvert_exporter": "python",
   "pygments_lexer": "ipython3",
   "version": "3.12.0"
  }
 },
 "nbformat": 4,
 "nbformat_minor": 5
}
