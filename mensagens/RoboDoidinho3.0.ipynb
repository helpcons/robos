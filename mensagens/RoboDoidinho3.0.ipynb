{
 "cells": [
  {
   "cell_type": "code",
   "execution_count": 1,
   "id": "5f3d743c",
   "metadata": {},
   "outputs": [],
   "source": [
    "import time\n",
    "import pandas as pd\n",
    "from selenium.webdriver.common.by import By\n",
    "from selenium import webdriver\n",
    "from webdriver_manager.chrome import ChromeDriverManager\n",
    "from selenium.webdriver.chrome.service import Service as ChromeService\n",
    "\n",
    "navegador = webdriver.Chrome(service=ChromeService(ChromeDriverManager().install()))"
   ]
  },
  {
   "attachments": {},
   "cell_type": "markdown",
   "id": "af69d9a1",
   "metadata": {},
   "source": [
    "### Whatsapp"
   ]
  },
  {
   "cell_type": "code",
   "execution_count": null,
   "id": "94af2915",
   "metadata": {},
   "outputs": [],
   "source": [
    "navegador = webdriver.Chrome()\n",
    "navegador.implicitly_wait(20) # seconds\n",
    "navegador.get('https://web.whatsapp.com/')\n",
    "\n",
    "# Convertendo todos os formatos em texto\n",
    "df_contato = pd.read_excel('Contatos.xlsx')\n",
    "# df_contato = df_contato[['Número', 'Mensagem', 'Imagem']]\n",
    "df_contato['Número'] = df_contato['Número'].astype(str)\n",
    "tuples = [tuple(x) for x in df_contato.values]\n",
    "\n",
    "# Salva contatos não realizados\n",
    "nao_enviados = []\n",
    "\n",
    "# Aguardando conexão com o whatsapp\n",
    "while len(navegador.find_elements(By.ID, 'side')) < 1:\n",
    "    time.sleep(1)\n",
    "\n",
    "\n",
    "    # Percorrendo os contatos e informações para envio\n",
    "for numero, nome, texto in tuples:\n",
    "    try:\n",
    "        time.sleep(4)\n",
    "        navegador.get(f'https://api.whatsapp.com/send/?phone=55{str(numero)}&text&type=phone_number&app_absent=0')\n",
    "        time.sleep(5)\n",
    "        navegador.find_element(By.XPATH, '//*[@id=\"action-button\"]/span').click()\n",
    "        time.sleep(6)\n",
    "        navegador.find_element(By.XPATH, '//*[@id=\"fallback_block\"]/div/div/h4[2]/a/span').click()\n",
    "\n",
    "        # enviando mensagens\n",
    "        navegador.find_element(By.XPATH, '//*[@id=\"main\"]/footer/div[1]/div/span[2]/div/div[2]/div[1]/div/div[1]/p').send_keys(texto)\n",
    "        time.sleep(6)\n",
    "        navegador.find_element(By.XPATH, '//*[@id=\"main\"]/footer/div[1]/div/span[2]/div/div[2]/div[2]/button/span').click()\n",
    "        time.sleep(6)\n",
    "        print(numero)\n",
    "    except:\n",
    "        time.sleep(5)\n",
    "        navegador.find_element(By.XPATH, '//*[@id=\"app\"]/div/span[2]/div/span/div/div/div/div/div/div[2]/div/button/div/div').click()\n",
    "        contato_nao_enviado = nome + \" - \" + str(numero)\n",
    "        nao_enviados.append(contato_nao_enviado)\n",
    "\n",
    "\n",
    "# enviar todos os\n",
    "navegador.get(f'https://api.whatsapp.com/send/?phone=5521980657337&text&type=phone_number&app_absent=0')\n",
    "time.sleep(5)\n",
    "navegador.find_element(By.XPATH, '//*[@id=\"action-button\"]/span').click()\n",
    "time.sleep(6)\n",
    "navegador.find_element(By.XPATH, '//*[@id=\"fallback_block\"]/div/div/h4[2]/a/span').click()\n",
    "\n",
    "# enviando mensagens\n",
    "for numero in nao_enviados:\n",
    "    time.sleep(5)\n",
    "    navegador.find_element(By.XPATH, '//*[@id=\"main\"]/footer/div[1]/div/span[2]/div/div[2]/div[1]/div/div[1]/p').send_keys(str(numero))\n",
    "    time.sleep(6)\n",
    "    navegador.find_element(By.XPATH, '//*[@id=\"main\"]/footer/div[1]/div/span[2]/div/div[2]/div[2]/button/span').click()\n",
    "\n",
    "# enviando imagens\n",
    "# navegador.find_element(By.XPATH, '//*[@id=\"main\"]/footer/div[1]/div/span[2]/div/div[2]/div[1]/div/div[1]/p').send_keys(imagem)\n",
    "# navegador.find_element(By.XPATH, '//*[@id=\"main\"]/footer/div[1]/div/span[2]/div/div[2]/div[2]/button/span').click()"
   ]
  }
 ],
 "metadata": {
  "kernelspec": {
   "display_name": "Python 3.11.0 ('lopes': venv)",
   "language": "python",
   "name": "python3"
  },
  "language_info": {
   "codemirror_mode": {
    "name": "ipython",
    "version": 3
   },
   "file_extension": ".py",
   "mimetype": "text/x-python",
   "name": "python",
   "nbconvert_exporter": "python",
   "pygments_lexer": "ipython3",
   "version": "3.12.2"
  },
  "vscode": {
   "interpreter": {
    "hash": "f0a79b472e7ffb0078f14a57b16d73a9df8c7d32395d97e0f0d8eebac48219ef"
   }
  }
 },
 "nbformat": 4,
 "nbformat_minor": 5
}
