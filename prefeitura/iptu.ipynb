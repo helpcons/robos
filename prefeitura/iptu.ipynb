{
 "cells": [
  {
   "cell_type": "code",
   "execution_count": 19,
   "metadata": {},
   "outputs": [],
   "source": [
    "# from selenium.webdriver.support.ui import Select\n",
    "\n",
    "import time\n",
    "from selenium import webdriver\n",
    "from selenium.webdriver.common.by import By\n",
    "from selenium.webdriver.firefox.service import Service as FirefoxService\n",
    "from webdriver_manager.firefox import GeckoDriverManager\n",
    "from PIL import Image\n",
    "import pytesseract\n",
    "\n",
    "caminho = r\"C:\\Users\\hconstancio\\AppData\\Local\\Tesseract-OCR\"\n",
    "pytesseract.pytesseract.tesseract_cmd = caminho + r'\\tesseract.exe'\n",
    "\n",
    "def getTextoCaptcha():\n",
    "    time.sleep(5)\n",
    "\n",
    "    # Localiza o Captcha no site\n",
    "    captcha = navegador.find_element(By.XPATH, '//*[@id=\"img\"]')\n",
    "    captcha.screenshot(\"captcha.png\") # Salva o Captcha como imagem\n",
    "\n",
    "    # Processa a imagem do CAPTCHA\n",
    "    imagem = Image.open(\"captcha.png\")\n",
    "    texto_captcha = pytesseract.image_to_string(imagem)\n",
    "\n",
    "    return texto_captcha\n",
    "\n",
    "time.sleep(5)\n",
    "\n",
    "navegador = webdriver.Firefox(service=FirefoxService(GeckoDriverManager().install()))\n",
    "\n",
    "navegador.implicitly_wait(20) # seconds\n",
    "navegador.get('https://www2.rio.rj.gov.br/smf/iptulogradouro/')\n",
    "\n",
    "\n",
    "navegador.find_element(By.XPATH, '/html/body/div[1]/div/div/form/table/tbody/tr[2]/td[1]/input').send_keys('URUCUIA')\n",
    "\n",
    "time.sleep(5)\n",
    "captcha = getTextoCaptcha()"
   ]
  },
  {
   "cell_type": "code",
   "execution_count": null,
   "metadata": {},
   "outputs": [],
   "source": [
    "try:\n",
    "    pass\n",
    "except:\n",
    "    codigo_errado = navegador.find_element(By.XPATH, '/html/body/div[1]/div/center/div/table[1]/tbody/tr[3]/td/font[1]/b')\n",
    "    navegador.find_element(By.XPATH, '/html/body/div[1]/div/center/div/table[2]/tbody/tr/td/div/form/input').click()"
   ]
  },
  {
   "cell_type": "code",
   "execution_count": null,
   "metadata": {},
   "outputs": [
    {
     "data": {
      "text/plain": [
       "1818"
      ]
     },
     "execution_count": 30,
     "metadata": {},
     "output_type": "execute_result"
    }
   ],
   "source": [
    "import pandas as pd\n",
    "\n",
    "# Indicando onde está o arquivo\n",
    "planilha = 'iptu'\n",
    "codigos = pd.read_excel(f'{planilha}.xlsx')\n",
    "\n",
    "# Removendo linhas duplicadas com base em uma coluna\n",
    "# codigos = codigos.drop_duplicates(subset=['codigo'])\n",
    "\n",
    "# Excluindo valores nan\n",
    "codigos = codigos.dropna(subset=['cl'])\n",
    "# Convertendo float em int e salvando uma lista com tolist()\n",
    "codigos = codigos['cl'].tolist()\n",
    "\n",
    "# codigos =[359931, 359963, 359743]\n",
    "len(codigos)"
   ]
  },
  {
   "cell_type": "code",
   "execution_count": 32,
   "metadata": {},
   "outputs": [],
   "source": [
    "codigos =[3400, 4317, 13441]"
   ]
  },
  {
   "cell_type": "code",
   "execution_count": null,
   "metadata": {},
   "outputs": [],
   "source": [
    "def dadosCodigo():\n",
    "    # Capturar o valor pesquisado e o exercício\n",
    "    pesquisado = navegador.find_element(By.XPATH, \"//tr[2]/td[1]\").text.strip()\n",
    "    exercicio = navegador.find_element(By.XPATH, \"//tr[2]/td[2]\").text.strip()\n",
    "\n",
    "    # Capturar todas as linhas de logradouros\n",
    "    linhas = navegador.find_elements(By.XPATH, \"//tr[@class='linha']\")\n",
    "\n",
    "    # Preparar lista para armazenar os dados\n",
    "    dados = []\n",
    "\n",
    "    for linha in linhas:\n",
    "        try:\n",
    "            codigo_logradouro = linha.find_element(By.XPATH, \"./td[2]\").text.strip()\n",
    "            logradouro = linha.find_element(By.XPATH, \"./td[3]\").text.strip()\n",
    "            bairro = linha.find_element(By.XPATH, \"./td[4]\").text.strip()\n",
    "            dados.append({\n",
    "                \"Pesquisado\": pesquisado,\n",
    "                \"Exercício\": exercicio,\n",
    "                \"CódigoLogradouro\": codigo_logradouro,\n",
    "                \"Logradouro\": logradouro,\n",
    "                \"Bairro\": bairro\n",
    "            })\n",
    "        except Exception as e:\n",
    "            print(\"Erro ao processar linha:\", str(e))\n",
    "\n",
    "    # Criar um DataFrame com os dados\n",
    "    df = pd.DataFrame(dados)\n",
    "\n",
    "    # Exportar para Excel\n",
    "    df.to_excel(\"tabela_formatada.xlsx\", index=False)\n",
    "\n",
    "    navegador.get('https://www2.rio.rj.gov.br/smf/iptulogradouro/')"
   ]
  },
  {
   "cell_type": "code",
   "execution_count": null,
   "metadata": {},
   "outputs": [],
   "source": [
    "for codigo in codigos:\n",
    "    navegador.find_element(By.XPATH, '/html/body/div[1]/div/div/form/table/tbody/tr[3]/td[1]/input').send_keys(codigo)\n",
    "\n",
    "    try:\n",
    "        captcha = getTextoCaptcha()\n",
    "        navegador.find_element(By.XPATH, '//*[@id=\"texto_imagem\"]').send_keys(captcha)\n",
    "        \n",
    "        navegador.find_element(By.XPATH, '/html/body/div[1]/div/div/form/table/tbody/tr[5]/td/input').click()\n",
    "\n",
    "        dadosCodigo()\n",
    "    except:\n",
    "\n",
    "        while alert != '':\n",
    "            alert = navegador.switch_to.alert\n",
    "            alert.accept()\n",
    "\n",
    "            captcha = getTextoCaptcha()\n",
    "            navegador.find_element(By.XPATH, '//*[@id=\"texto_imagem\"]').send_keys(captcha)\n",
    "            \n",
    "            navegador.find_element(By.XPATH, '/html/body/div[1]/div/div/form/table/tbody/tr[5]/td/input').click()\n",
    "\n",
    "            dadosCodigo()\n",
    "    \n",
    "    "
   ]
  }
 ],
 "metadata": {
  "kernelspec": {
   "display_name": "lopes",
   "language": "python",
   "name": "python3"
  },
  "language_info": {
   "codemirror_mode": {
    "name": "ipython",
    "version": 3
   },
   "file_extension": ".py",
   "mimetype": "text/x-python",
   "name": "python",
   "nbconvert_exporter": "python",
   "pygments_lexer": "ipython3",
   "version": "3.12.2"
  }
 },
 "nbformat": 4,
 "nbformat_minor": 2
}
