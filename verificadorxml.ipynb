{
 "cells": [
  {
   "cell_type": "code",
   "execution_count": 1,
   "metadata": {},
   "outputs": [],
   "source": [
    "import pandas as pd"
   ]
  },
  {
   "cell_type": "code",
   "execution_count": null,
   "metadata": {},
   "outputs": [],
   "source": [
    "tabela = pd.read_xml(namespaces={\"doc\":'http://cdn.lopesrj.com.br/ext/zapAvu2021.xml'}, parser='lxml', encoding='utf-8')\n",
    "tabela.tail()"
   ]
  },
  {
   "cell_type": "code",
   "execution_count": null,
   "metadata": {},
   "outputs": [],
   "source": [
    "import requests\n",
    "import xml.etree.ElementTree as ET\n",
    "\n",
    "# URL do arquivo XML\n",
    "url = 'http://cdn.lopesrj.com.br/ext/zapAvu2021.xml'  # Substitua pelo URL do seu XML\n",
    "\n",
    "# Fazer a requisição HTTP\n",
    "response = requests.get(url)\n",
    "\n",
    "# Verificar se a requisição foi bem-sucedida\n",
    "if response.status_code == 200:\n",
    "    xml_content = response.content\n",
    "\n",
    "    # Parsear o conteúdo XML\n",
    "    print(xml_content)\n",
    "    # root = ET.fromstring(xml_content)\n",
    "\n",
    "#     # Navegar e imprimir os dados do XML\n",
    "#     for child in root:\n",
    "#         print(child.tag, child.attrib, child.text)\n",
    "#         for subchild in child:\n",
    "#             print(f\"  {subchild.tag}: {subchild.text}\")\n",
    "# else:\n",
    "#     print(f\"Erro ao acessar o URL: {response.status_code}\")\n"
   ]
  },
  {
   "cell_type": "code",
   "execution_count": null,
   "metadata": {},
   "outputs": [],
   "source": [
    "root = ET.fromstring(xml_content)\n",
    "\n",
    "# Navegar e imprimir os dados do XML\n",
    "for child in root:\n",
    "    print(child.tag, child.attrib, child.text)\n",
    "    for subchild in child:\n",
    "        print(f\"  {subchild.tag}: {subchild.text}\")\n",
    "else:\n",
    "    print(f\"Erro ao acessar o URL: {response.status_code}\")"
   ]
  }
 ],
 "metadata": {
  "kernelspec": {
   "display_name": "lopes",
   "language": "python",
   "name": "python3"
  },
  "language_info": {
   "codemirror_mode": {
    "name": "ipython",
    "version": 3
   },
   "file_extension": ".py",
   "mimetype": "text/x-python",
   "name": "python",
   "nbconvert_exporter": "python",
   "pygments_lexer": "ipython3",
   "version": "3.12.2"
  }
 },
 "nbformat": 4,
 "nbformat_minor": 2
}
