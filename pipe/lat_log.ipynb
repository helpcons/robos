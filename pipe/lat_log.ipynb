{
 "cells": [
  {
   "cell_type": "code",
   "execution_count": 16,
   "metadata": {},
   "outputs": [],
   "source": [
    "import re\n",
    "import time\n",
    "import pandas as pd\n",
    "from selenium import webdriver\n",
    "from webdriver_manager.chrome import ChromeDriverManager\n",
    "from selenium.webdriver.chrome.service import Service as ChromeService\n",
    "\n",
    "navegador = webdriver.Chrome(service=ChromeService(ChromeDriverManager().install()))"
   ]
  },
  {
   "cell_type": "code",
   "execution_count": 34,
   "metadata": {},
   "outputs": [
    {
     "data": {
      "text/plain": [
       "92"
      ]
     },
     "execution_count": 34,
     "metadata": {},
     "output_type": "execute_result"
    }
   ],
   "source": [
    "# Indicando onde está o arquivo base do Policarpo\n",
    "# planilha = 'pesquisa_enderecos'\n",
    "planilha = 'pesquisa_enderecos'\n",
    "end_pes = pd.read_excel(f'{planilha}.xlsx')\n",
    "\n",
    "# Removendo linhas duplicadas com base em uma coluna\n",
    "end_pes = end_pes.drop_duplicates(subset=['enderecos'])\n",
    "# Excluindo valores nan\n",
    "end_pes = end_pes.dropna(subset=['enderecos'])\n",
    "# Convertendo float em int e salvando uma lista com tolist()\n",
    "# end_pes = end_pes['enderecos'].tolist()\n",
    "# \n",
    "len(end_pes)"
   ]
  },
  {
   "cell_type": "code",
   "execution_count": null,
   "metadata": {},
   "outputs": [],
   "source": [
    "for index, row in end_pes.iterrows():\n",
    "    endereco = row['enderecos']\n",
    "    end_formatado = endereco.replace(' ', '+')\n",
    "    print(end_formatado)\n",
    "    navegador.get(f'https://www.google.com.br/maps/place/{end_formatado}')\n",
    "    time.sleep(10)\n",
    "    res_pes = navegador.current_url\n",
    "    end_pes.at[index, 'url'] = res_pes\n",
    "    \n",
    "    # Expressão regular para encontrar os números entre \"@\" e \",17z/data\"\n",
    "    padrao = r'@(-?\\d+\\.\\d+),(-?\\d+\\.\\d+),'\n",
    "\n",
    "    # Usando a função findall para extrair os números\n",
    "    numeros = re.findall(padrao, res_pes)\n",
    "\n",
    "    # Exibindo os números encontrados\n",
    "    if numeros:\n",
    "        latitude, longitude = numeros[0]\n",
    "        print(\"Latitude:\", latitude)\n",
    "        print(\"Longitude:\", longitude)\n",
    "    else:\n",
    "        print(\"Números não encontrados.\")\n",
    "\n",
    "    end_pes.at[index, 'lat'] = latitude\n",
    "    end_pes.at[index, 'log'] = longitude"
   ]
  },
  {
   "cell_type": "code",
   "execution_count": 36,
   "metadata": {},
   "outputs": [],
   "source": [
    "end_pes.to_excel('resultado_enderecos.xlsx', index=False)"
   ]
  },
  {
   "cell_type": "code",
   "execution_count": null,
   "metadata": {},
   "outputs": [],
   "source": [
    "# Pesquisa do endereço\n",
    "navegador.implicitly_wait(20)\n",
    "navegador.get('https://www.google.com.br/maps/place/')\n",
    "\n",
    "endereco = 'Rua Domingos Fernandes 572 Vila Nova Conceição'\n",
    "end_formatado = endereco.replace(' ', '+')\n",
    "print(end_formatado)"
   ]
  },
  {
   "cell_type": "code",
   "execution_count": null,
   "metadata": {},
   "outputs": [],
   "source": [
    "navegador.get('https://www.google.com.br/maps/place/' + end_formatado)"
   ]
  },
  {
   "cell_type": "code",
   "execution_count": 12,
   "metadata": {},
   "outputs": [
    {
     "name": "stdout",
     "output_type": "stream",
     "text": [
      "https://www.google.com.br/maps/place/R.+Domingos+Fernandes,+572+-+Moema,+S%C3%A3o+Paulo+-+SP,+04509-011/@-23.5919069,-46.670668,21z/data=!4m6!3m5!1s0x94ce57562a278f2f:0xd540be255950236e!8m2!3d-23.5919826!4d-46.6706457!16s%2Fg%2F11c1yn42xs?entry=ttu\n"
     ]
    }
   ],
   "source": [
    "coordenadas = navegador.current_url\n",
    "print(coordenadas)"
   ]
  },
  {
   "cell_type": "code",
   "execution_count": 15,
   "metadata": {},
   "outputs": [
    {
     "name": "stdout",
     "output_type": "stream",
     "text": [
      "Latitude: -23.5919069\n",
      "Longitude: -46.670668\n"
     ]
    }
   ],
   "source": [
    "import re\n",
    "# Texto fornecido\n",
    "# Expressão regular para encontrar os números entre \"@\" e \",17z/data\"\n",
    "padrao = r'@(-?\\d+\\.\\d+),(-?\\d+\\.\\d+),'\n",
    "\n",
    "# Usando a função findall para extrair os números\n",
    "numeros = re.findall(padrao, coordenadas)\n",
    "\n",
    "# Exibindo os números encontrados\n",
    "if numeros:\n",
    "    latitude, longitude = numeros[0]\n",
    "    print(\"Latitude:\", latitude)\n",
    "    print(\"Longitude:\", longitude)\n",
    "else:\n",
    "    print(\"Números não encontrados.\")"
   ]
  }
 ],
 "metadata": {
  "kernelspec": {
   "display_name": "lopes",
   "language": "python",
   "name": "python3"
  },
  "language_info": {
   "codemirror_mode": {
    "name": "ipython",
    "version": 3
   },
   "file_extension": ".py",
   "mimetype": "text/x-python",
   "name": "python",
   "nbconvert_exporter": "python",
   "pygments_lexer": "ipython3",
   "version": "3.12.2"
  }
 },
 "nbformat": 4,
 "nbformat_minor": 2
}
